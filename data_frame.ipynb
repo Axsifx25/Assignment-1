{
 "cells": [
  {
   "cell_type": "code",
   "execution_count": 59,
   "id": "c984ff90-af53-4a7f-87e3-a61e64a9a583",
   "metadata": {},
   "outputs": [],
   "source": [
    "import pandas as pd"
   ]
  },
  {
   "cell_type": "code",
   "execution_count": 11,
   "id": "dd8261b5-be15-4618-890a-8f52ddc2f1bd",
   "metadata": {},
   "outputs": [],
   "source": [
    "# sample data for indian students\n",
    "data={\n",
    "    \"Name\":[\"Aarav\",\"Isha\",\"Vivaan\",\"Priya\",\"Reyansh\"],\n",
    "    \"Age\":[20,21,22,23,24],\n",
    "    \"Grade\":[\"A\",\"B\",\"A\",\"C\",\"B\"],\n",
    "    \"City\":[\"Delhi\",\"Mumbai\",\"Bangalore\",\"Chennai\",\"Hydrabad\"]\n",
    "}"
   ]
  },
  {
   "cell_type": "code",
   "execution_count": 21,
   "id": "6c530bf8-88bf-4388-8126-25ab20b39f39",
   "metadata": {},
   "outputs": [],
   "source": [
    "df =pd.DataFrame(data)"
   ]
  },
  {
   "cell_type": "code",
   "execution_count": 17,
   "id": "fbacae10-8d88-4dd8-828f-0af09d5cf779",
   "metadata": {},
   "outputs": [
    {
     "data": {
      "text/html": [
       "<div>\n",
       "<style scoped>\n",
       "    .dataframe tbody tr th:only-of-type {\n",
       "        vertical-align: middle;\n",
       "    }\n",
       "\n",
       "    .dataframe tbody tr th {\n",
       "        vertical-align: top;\n",
       "    }\n",
       "\n",
       "    .dataframe thead th {\n",
       "        text-align: right;\n",
       "    }\n",
       "</style>\n",
       "<table border=\"1\" class=\"dataframe\">\n",
       "  <thead>\n",
       "    <tr style=\"text-align: right;\">\n",
       "      <th></th>\n",
       "      <th>Name</th>\n",
       "      <th>Age</th>\n",
       "      <th>Grade</th>\n",
       "      <th>City</th>\n",
       "    </tr>\n",
       "  </thead>\n",
       "  <tbody>\n",
       "    <tr>\n",
       "      <th>0</th>\n",
       "      <td>Aarav</td>\n",
       "      <td>20</td>\n",
       "      <td>A</td>\n",
       "      <td>Delhi</td>\n",
       "    </tr>\n",
       "    <tr>\n",
       "      <th>1</th>\n",
       "      <td>Isha</td>\n",
       "      <td>21</td>\n",
       "      <td>B</td>\n",
       "      <td>Mumbai</td>\n",
       "    </tr>\n",
       "    <tr>\n",
       "      <th>2</th>\n",
       "      <td>Vivaan</td>\n",
       "      <td>22</td>\n",
       "      <td>A</td>\n",
       "      <td>Bangalore</td>\n",
       "    </tr>\n",
       "    <tr>\n",
       "      <th>3</th>\n",
       "      <td>Priya</td>\n",
       "      <td>23</td>\n",
       "      <td>C</td>\n",
       "      <td>Chennai</td>\n",
       "    </tr>\n",
       "    <tr>\n",
       "      <th>4</th>\n",
       "      <td>Reyansh</td>\n",
       "      <td>24</td>\n",
       "      <td>B</td>\n",
       "      <td>Hydrabad</td>\n",
       "    </tr>\n",
       "  </tbody>\n",
       "</table>\n",
       "</div>"
      ],
      "text/plain": [
       "      Name  Age Grade       City\n",
       "0    Aarav   20     A      Delhi\n",
       "1     Isha   21     B     Mumbai\n",
       "2   Vivaan   22     A  Bangalore\n",
       "3    Priya   23     C    Chennai\n",
       "4  Reyansh   24     B   Hydrabad"
      ]
     },
     "execution_count": 17,
     "metadata": {},
     "output_type": "execute_result"
    }
   ],
   "source": [
    "#Display the dataframe\n",
    "df"
   ]
  },
  {
   "cell_type": "code",
   "execution_count": 33,
   "id": "937fec81-f0e0-465f-8b3e-db7acb8855e6",
   "metadata": {},
   "outputs": [],
   "source": [
    "# Data for each column.\n",
    "names=[\"Aarav\",\"Isha\",\"Vivaan\",\"Priya\",\"Reyansh\"]\n",
    "ages=[20,21,22,23,24]\n",
    "grades=[\"A\",\"B\",\"A\",\"C\",\"B\"]\n",
    "cities=[\"Delhi\",\"Mumbai\",\"Bangalore\",\"Chennai\",\"Hydrabad\"]"
   ]
  },
  {
   "cell_type": "code",
   "execution_count": 37,
   "id": "69b6d906-9dcc-4964-bf28-ecf1150545f5",
   "metadata": {},
   "outputs": [
    {
     "name": "stdout",
     "output_type": "stream",
     "text": [
      "['Aarav', 'Isha', 'Vivaan', 'Priya', 'Reyansh']\n"
     ]
    }
   ],
   "source": [
    "print(names)"
   ]
  },
  {
   "cell_type": "code",
   "execution_count": 47,
   "id": "b829d599-e69b-45b6-a85d-8785447815ee",
   "metadata": {},
   "outputs": [],
   "source": [
    "# Create dataframe using zip() to column the lists into the dictionary.\n",
    "df =pd.DataFrame(list(zip(names,ages,grades,cities)),columns=[\"Name\",\"Age\",\"Grade\",\"City\"])"
   ]
  },
  {
   "cell_type": "code",
   "execution_count": 49,
   "id": "453afe33-bc9a-48e7-aafa-edfe6d009e13",
   "metadata": {},
   "outputs": [
    {
     "data": {
      "text/html": [
       "<div>\n",
       "<style scoped>\n",
       "    .dataframe tbody tr th:only-of-type {\n",
       "        vertical-align: middle;\n",
       "    }\n",
       "\n",
       "    .dataframe tbody tr th {\n",
       "        vertical-align: top;\n",
       "    }\n",
       "\n",
       "    .dataframe thead th {\n",
       "        text-align: right;\n",
       "    }\n",
       "</style>\n",
       "<table border=\"1\" class=\"dataframe\">\n",
       "  <thead>\n",
       "    <tr style=\"text-align: right;\">\n",
       "      <th></th>\n",
       "      <th>Name</th>\n",
       "      <th>Age</th>\n",
       "      <th>Grade</th>\n",
       "      <th>City</th>\n",
       "    </tr>\n",
       "  </thead>\n",
       "  <tbody>\n",
       "    <tr>\n",
       "      <th>0</th>\n",
       "      <td>Aarav</td>\n",
       "      <td>20</td>\n",
       "      <td>A</td>\n",
       "      <td>Delhi</td>\n",
       "    </tr>\n",
       "    <tr>\n",
       "      <th>1</th>\n",
       "      <td>Isha</td>\n",
       "      <td>21</td>\n",
       "      <td>B</td>\n",
       "      <td>Mumbai</td>\n",
       "    </tr>\n",
       "    <tr>\n",
       "      <th>2</th>\n",
       "      <td>Vivaan</td>\n",
       "      <td>22</td>\n",
       "      <td>A</td>\n",
       "      <td>Bangalore</td>\n",
       "    </tr>\n",
       "    <tr>\n",
       "      <th>3</th>\n",
       "      <td>Priya</td>\n",
       "      <td>23</td>\n",
       "      <td>C</td>\n",
       "      <td>Chennai</td>\n",
       "    </tr>\n",
       "    <tr>\n",
       "      <th>4</th>\n",
       "      <td>Reyansh</td>\n",
       "      <td>24</td>\n",
       "      <td>B</td>\n",
       "      <td>Hydrabad</td>\n",
       "    </tr>\n",
       "  </tbody>\n",
       "</table>\n",
       "</div>"
      ],
      "text/plain": [
       "      Name  Age Grade       City\n",
       "0    Aarav   20     A      Delhi\n",
       "1     Isha   21     B     Mumbai\n",
       "2   Vivaan   22     A  Bangalore\n",
       "3    Priya   23     C    Chennai\n",
       "4  Reyansh   24     B   Hydrabad"
      ]
     },
     "execution_count": 49,
     "metadata": {},
     "output_type": "execute_result"
    }
   ],
   "source": [
    "df"
   ]
  },
  {
   "cell_type": "code",
   "execution_count": 63,
   "id": "b721b2c4-ff77-4671-b8b8-82656e930c2a",
   "metadata": {},
   "outputs": [],
   "source": [
    "# Method 3 using numpys arrays.\n",
    "import numpy as np"
   ]
  },
  {
   "cell_type": "code",
   "execution_count": 65,
   "id": "f4cc1593-afd3-4102-96fd-ebc345552166",
   "metadata": {},
   "outputs": [],
   "source": [
    "#using numpy arrays\n",
    "names=np.array([\"Aarav\",\"Isha\",\"Vivaan\",\"Priya\",\"Reyansh\"])\n",
    "ages=np.array([20,21,22,23,24])\n",
    "grades=np.array([\"A\",\"B\",\"A\",\"C\",\"B\"])\n",
    "cities=np.array([\"Delhi\",\"Mumbai\",\"Bangalore\",\"Chennai\",\"Hydrabad\"])"
   ]
  },
  {
   "cell_type": "code",
   "execution_count": 67,
   "id": "0467c2e5-bd17-4df1-9901-f001aed46c2d",
   "metadata": {},
   "outputs": [],
   "source": [
    "#creating Dataframe\n",
    "df=pd.DataFrame({\n",
    "    \"Name\":names,\n",
    "    \"Ages\":ages,\n",
    "    \"Grade\":grades,\n",
    "    \"City\":cities\n",
    "})"
   ]
  },
  {
   "cell_type": "code",
   "execution_count": 69,
   "id": "874ec4c1-eaae-4650-84eb-07e141697ec0",
   "metadata": {},
   "outputs": [
    {
     "data": {
      "text/html": [
       "<div>\n",
       "<style scoped>\n",
       "    .dataframe tbody tr th:only-of-type {\n",
       "        vertical-align: middle;\n",
       "    }\n",
       "\n",
       "    .dataframe tbody tr th {\n",
       "        vertical-align: top;\n",
       "    }\n",
       "\n",
       "    .dataframe thead th {\n",
       "        text-align: right;\n",
       "    }\n",
       "</style>\n",
       "<table border=\"1\" class=\"dataframe\">\n",
       "  <thead>\n",
       "    <tr style=\"text-align: right;\">\n",
       "      <th></th>\n",
       "      <th>Name</th>\n",
       "      <th>Ages</th>\n",
       "      <th>Grade</th>\n",
       "      <th>City</th>\n",
       "    </tr>\n",
       "  </thead>\n",
       "  <tbody>\n",
       "    <tr>\n",
       "      <th>0</th>\n",
       "      <td>Aarav</td>\n",
       "      <td>20</td>\n",
       "      <td>A</td>\n",
       "      <td>Delhi</td>\n",
       "    </tr>\n",
       "    <tr>\n",
       "      <th>1</th>\n",
       "      <td>Isha</td>\n",
       "      <td>21</td>\n",
       "      <td>B</td>\n",
       "      <td>Mumbai</td>\n",
       "    </tr>\n",
       "    <tr>\n",
       "      <th>2</th>\n",
       "      <td>Vivaan</td>\n",
       "      <td>22</td>\n",
       "      <td>A</td>\n",
       "      <td>Bangalore</td>\n",
       "    </tr>\n",
       "    <tr>\n",
       "      <th>3</th>\n",
       "      <td>Priya</td>\n",
       "      <td>23</td>\n",
       "      <td>C</td>\n",
       "      <td>Chennai</td>\n",
       "    </tr>\n",
       "    <tr>\n",
       "      <th>4</th>\n",
       "      <td>Reyansh</td>\n",
       "      <td>24</td>\n",
       "      <td>B</td>\n",
       "      <td>Hydrabad</td>\n",
       "    </tr>\n",
       "  </tbody>\n",
       "</table>\n",
       "</div>"
      ],
      "text/plain": [
       "      Name  Ages Grade       City\n",
       "0    Aarav    20     A      Delhi\n",
       "1     Isha    21     B     Mumbai\n",
       "2   Vivaan    22     A  Bangalore\n",
       "3    Priya    23     C    Chennai\n",
       "4  Reyansh    24     B   Hydrabad"
      ]
     },
     "execution_count": 69,
     "metadata": {},
     "output_type": "execute_result"
    }
   ],
   "source": [
    "# Display Dataframe\n",
    "df"
   ]
  },
  {
   "cell_type": "code",
   "execution_count": 71,
   "id": "61e86101-213d-48bc-b66a-2dc589db00e8",
   "metadata": {},
   "outputs": [],
   "source": [
    "# Using panda.DataFrame.form_dict()\n",
    "#creating dataframe.frame using dict.\n",
    "df =pd.DataFrame.from_dict(data)"
   ]
  },
  {
   "cell_type": "code",
   "execution_count": 73,
   "id": "d83e4a32-0565-4d78-852d-ebac39d008eb",
   "metadata": {},
   "outputs": [
    {
     "data": {
      "text/html": [
       "<div>\n",
       "<style scoped>\n",
       "    .dataframe tbody tr th:only-of-type {\n",
       "        vertical-align: middle;\n",
       "    }\n",
       "\n",
       "    .dataframe tbody tr th {\n",
       "        vertical-align: top;\n",
       "    }\n",
       "\n",
       "    .dataframe thead th {\n",
       "        text-align: right;\n",
       "    }\n",
       "</style>\n",
       "<table border=\"1\" class=\"dataframe\">\n",
       "  <thead>\n",
       "    <tr style=\"text-align: right;\">\n",
       "      <th></th>\n",
       "      <th>Name</th>\n",
       "      <th>Age</th>\n",
       "      <th>Grade</th>\n",
       "      <th>City</th>\n",
       "    </tr>\n",
       "  </thead>\n",
       "  <tbody>\n",
       "    <tr>\n",
       "      <th>0</th>\n",
       "      <td>Aarav</td>\n",
       "      <td>20</td>\n",
       "      <td>A</td>\n",
       "      <td>Delhi</td>\n",
       "    </tr>\n",
       "    <tr>\n",
       "      <th>1</th>\n",
       "      <td>Isha</td>\n",
       "      <td>21</td>\n",
       "      <td>B</td>\n",
       "      <td>Mumbai</td>\n",
       "    </tr>\n",
       "    <tr>\n",
       "      <th>2</th>\n",
       "      <td>Vivaan</td>\n",
       "      <td>22</td>\n",
       "      <td>A</td>\n",
       "      <td>Bangalore</td>\n",
       "    </tr>\n",
       "    <tr>\n",
       "      <th>3</th>\n",
       "      <td>Priya</td>\n",
       "      <td>23</td>\n",
       "      <td>C</td>\n",
       "      <td>Chennai</td>\n",
       "    </tr>\n",
       "    <tr>\n",
       "      <th>4</th>\n",
       "      <td>Reyansh</td>\n",
       "      <td>24</td>\n",
       "      <td>B</td>\n",
       "      <td>Hydrabad</td>\n",
       "    </tr>\n",
       "  </tbody>\n",
       "</table>\n",
       "</div>"
      ],
      "text/plain": [
       "      Name  Age Grade       City\n",
       "0    Aarav   20     A      Delhi\n",
       "1     Isha   21     B     Mumbai\n",
       "2   Vivaan   22     A  Bangalore\n",
       "3    Priya   23     C    Chennai\n",
       "4  Reyansh   24     B   Hydrabad"
      ]
     },
     "execution_count": 73,
     "metadata": {},
     "output_type": "execute_result"
    }
   ],
   "source": [
    "df"
   ]
  },
  {
   "cell_type": "code",
   "execution_count": 79,
   "id": "a5786feb-7a1d-4aad-8f21-40194ca3783f",
   "metadata": {},
   "outputs": [],
   "source": [
    "# Using pd.DataFrame() with a list of Dictionaries\n",
    "#list of dictionaries represeting each Student's record\n",
    "data=[\n",
    "  {\"Name\":\"Aarav\",\"Age\":20,\"Grade\":\"A\",\"City\":\"Delhi\"},\n",
    "  {\"Name\":\"Isha\",\"Age\":21,\"Grade\":\"B\",\"City\":\"Mumbai\"},\n",
    "  {\"Name\":\"Vivaan\",\"Age\":22,\"Grade\":\"A\",\"City\":\"Bangalore\"},\n",
    "  {\"Name\":\"Priya\",\"Age\":23,\"Grade\":\"C\",\"City\":\"Chennai\"},\n",
    "  {\"Name\":\"Reyansh\",\"Age\":24,\"Grade\":\"B\",\"City\":\"Hydrabad\"}   \n",
    "]"
   ]
  },
  {
   "cell_type": "code",
   "execution_count": 83,
   "id": "4738876c-dc6d-456b-becc-b04f625b676a",
   "metadata": {},
   "outputs": [],
   "source": [
    "#creating DataFrame \n",
    "df=pd.DataFrame(data)"
   ]
  },
  {
   "cell_type": "code",
   "execution_count": 85,
   "id": "d851b2ba-4114-4192-9ba5-2c354eb4298b",
   "metadata": {},
   "outputs": [
    {
     "data": {
      "text/html": [
       "<div>\n",
       "<style scoped>\n",
       "    .dataframe tbody tr th:only-of-type {\n",
       "        vertical-align: middle;\n",
       "    }\n",
       "\n",
       "    .dataframe tbody tr th {\n",
       "        vertical-align: top;\n",
       "    }\n",
       "\n",
       "    .dataframe thead th {\n",
       "        text-align: right;\n",
       "    }\n",
       "</style>\n",
       "<table border=\"1\" class=\"dataframe\">\n",
       "  <thead>\n",
       "    <tr style=\"text-align: right;\">\n",
       "      <th></th>\n",
       "      <th>Name</th>\n",
       "      <th>Age</th>\n",
       "      <th>Grade</th>\n",
       "      <th>City</th>\n",
       "    </tr>\n",
       "  </thead>\n",
       "  <tbody>\n",
       "    <tr>\n",
       "      <th>0</th>\n",
       "      <td>Aarav</td>\n",
       "      <td>20</td>\n",
       "      <td>A</td>\n",
       "      <td>Delhi</td>\n",
       "    </tr>\n",
       "    <tr>\n",
       "      <th>1</th>\n",
       "      <td>Isha</td>\n",
       "      <td>21</td>\n",
       "      <td>B</td>\n",
       "      <td>Mumbai</td>\n",
       "    </tr>\n",
       "    <tr>\n",
       "      <th>2</th>\n",
       "      <td>Vivaan</td>\n",
       "      <td>22</td>\n",
       "      <td>A</td>\n",
       "      <td>Bangalore</td>\n",
       "    </tr>\n",
       "    <tr>\n",
       "      <th>3</th>\n",
       "      <td>Priya</td>\n",
       "      <td>23</td>\n",
       "      <td>C</td>\n",
       "      <td>Chennai</td>\n",
       "    </tr>\n",
       "    <tr>\n",
       "      <th>4</th>\n",
       "      <td>Reyansh</td>\n",
       "      <td>24</td>\n",
       "      <td>B</td>\n",
       "      <td>Hydrabad</td>\n",
       "    </tr>\n",
       "  </tbody>\n",
       "</table>\n",
       "</div>"
      ],
      "text/plain": [
       "      Name  Age Grade       City\n",
       "0    Aarav   20     A      Delhi\n",
       "1     Isha   21     B     Mumbai\n",
       "2   Vivaan   22     A  Bangalore\n",
       "3    Priya   23     C    Chennai\n",
       "4  Reyansh   24     B   Hydrabad"
      ]
     },
     "execution_count": 85,
     "metadata": {},
     "output_type": "execute_result"
    }
   ],
   "source": [
    "#Display DataFrame\n",
    "df"
   ]
  },
  {
   "cell_type": "code",
   "execution_count": 107,
   "id": "6a2b802d-1f08-498c-b593-51978ab99a42",
   "metadata": {},
   "outputs": [],
   "source": [
    "row,column= df.shape"
   ]
  },
  {
   "cell_type": "code",
   "execution_count": 109,
   "id": "30dff020-db3e-44fd-82ca-763b0bc27fab",
   "metadata": {},
   "outputs": [
    {
     "data": {
      "text/plain": [
       "5"
      ]
     },
     "execution_count": 109,
     "metadata": {},
     "output_type": "execute_result"
    }
   ],
   "source": [
    "row"
   ]
  },
  {
   "cell_type": "code",
   "execution_count": 112,
   "id": "d3c98de6-995e-492a-a93a-33e5cde71284",
   "metadata": {},
   "outputs": [
    {
     "data": {
      "text/plain": [
       "4"
      ]
     },
     "execution_count": 112,
     "metadata": {},
     "output_type": "execute_result"
    }
   ],
   "source": [
    "column"
   ]
  },
  {
   "cell_type": "code",
   "execution_count": 114,
   "id": "bce190e8-264f-4883-878b-c7ea2d890f2a",
   "metadata": {},
   "outputs": [
    {
     "data": {
      "text/html": [
       "<div>\n",
       "<style scoped>\n",
       "    .dataframe tbody tr th:only-of-type {\n",
       "        vertical-align: middle;\n",
       "    }\n",
       "\n",
       "    .dataframe tbody tr th {\n",
       "        vertical-align: top;\n",
       "    }\n",
       "\n",
       "    .dataframe thead th {\n",
       "        text-align: right;\n",
       "    }\n",
       "</style>\n",
       "<table border=\"1\" class=\"dataframe\">\n",
       "  <thead>\n",
       "    <tr style=\"text-align: right;\">\n",
       "      <th></th>\n",
       "      <th>Name</th>\n",
       "      <th>Age</th>\n",
       "    </tr>\n",
       "  </thead>\n",
       "  <tbody>\n",
       "    <tr>\n",
       "      <th>0</th>\n",
       "      <td>Aarav</td>\n",
       "      <td>20</td>\n",
       "    </tr>\n",
       "    <tr>\n",
       "      <th>2</th>\n",
       "      <td>Vivaan</td>\n",
       "      <td>22</td>\n",
       "    </tr>\n",
       "  </tbody>\n",
       "</table>\n",
       "</div>"
      ],
      "text/plain": [
       "     Name  Age\n",
       "0   Aarav   20\n",
       "2  Vivaan   22"
      ]
     },
     "execution_count": 114,
     "metadata": {},
     "output_type": "execute_result"
    }
   ],
   "source": [
    "df[['Name','Age']][df['Grade']=='A']"
   ]
  },
  {
   "cell_type": "code",
   "execution_count": 116,
   "id": "806d148b-ddd7-4ca3-91e7-200cfd1fcd9b",
   "metadata": {},
   "outputs": [
    {
     "data": {
      "text/html": [
       "<div>\n",
       "<style scoped>\n",
       "    .dataframe tbody tr th:only-of-type {\n",
       "        vertical-align: middle;\n",
       "    }\n",
       "\n",
       "    .dataframe tbody tr th {\n",
       "        vertical-align: top;\n",
       "    }\n",
       "\n",
       "    .dataframe thead th {\n",
       "        text-align: right;\n",
       "    }\n",
       "</style>\n",
       "<table border=\"1\" class=\"dataframe\">\n",
       "  <thead>\n",
       "    <tr style=\"text-align: right;\">\n",
       "      <th></th>\n",
       "      <th>Name</th>\n",
       "      <th>Age</th>\n",
       "    </tr>\n",
       "  </thead>\n",
       "  <tbody>\n",
       "    <tr>\n",
       "      <th>4</th>\n",
       "      <td>Reyansh</td>\n",
       "      <td>24</td>\n",
       "    </tr>\n",
       "  </tbody>\n",
       "</table>\n",
       "</div>"
      ],
      "text/plain": [
       "      Name  Age\n",
       "4  Reyansh   24"
      ]
     },
     "execution_count": 116,
     "metadata": {},
     "output_type": "execute_result"
    }
   ],
   "source": [
    "df[['Name','Age']][df['Age']==df['Age'].max()]"
   ]
  },
  {
   "cell_type": "code",
   "execution_count": 118,
   "id": "b67117eb-a126-4a75-8edc-55e08dd39c72",
   "metadata": {},
   "outputs": [
    {
     "data": {
      "text/html": [
       "<div>\n",
       "<style scoped>\n",
       "    .dataframe tbody tr th:only-of-type {\n",
       "        vertical-align: middle;\n",
       "    }\n",
       "\n",
       "    .dataframe tbody tr th {\n",
       "        vertical-align: top;\n",
       "    }\n",
       "\n",
       "    .dataframe thead th {\n",
       "        text-align: right;\n",
       "    }\n",
       "</style>\n",
       "<table border=\"1\" class=\"dataframe\">\n",
       "  <thead>\n",
       "    <tr style=\"text-align: right;\">\n",
       "      <th></th>\n",
       "      <th>Name</th>\n",
       "      <th>Age</th>\n",
       "      <th>Grade</th>\n",
       "      <th>City</th>\n",
       "    </tr>\n",
       "  </thead>\n",
       "  <tbody>\n",
       "    <tr>\n",
       "      <th>0</th>\n",
       "      <td>Aarav</td>\n",
       "      <td>20</td>\n",
       "      <td>A</td>\n",
       "      <td>Delhi</td>\n",
       "    </tr>\n",
       "    <tr>\n",
       "      <th>1</th>\n",
       "      <td>Isha</td>\n",
       "      <td>21</td>\n",
       "      <td>B</td>\n",
       "      <td>Mumbai</td>\n",
       "    </tr>\n",
       "    <tr>\n",
       "      <th>2</th>\n",
       "      <td>Vivaan</td>\n",
       "      <td>22</td>\n",
       "      <td>A</td>\n",
       "      <td>Bangalore</td>\n",
       "    </tr>\n",
       "    <tr>\n",
       "      <th>3</th>\n",
       "      <td>Priya</td>\n",
       "      <td>23</td>\n",
       "      <td>C</td>\n",
       "      <td>Chennai</td>\n",
       "    </tr>\n",
       "    <tr>\n",
       "      <th>4</th>\n",
       "      <td>Reyansh</td>\n",
       "      <td>24</td>\n",
       "      <td>B</td>\n",
       "      <td>Hydrabad</td>\n",
       "    </tr>\n",
       "  </tbody>\n",
       "</table>\n",
       "</div>"
      ],
      "text/plain": [
       "      Name  Age Grade       City\n",
       "0    Aarav   20     A      Delhi\n",
       "1     Isha   21     B     Mumbai\n",
       "2   Vivaan   22     A  Bangalore\n",
       "3    Priya   23     C    Chennai\n",
       "4  Reyansh   24     B   Hydrabad"
      ]
     },
     "execution_count": 118,
     "metadata": {},
     "output_type": "execute_result"
    }
   ],
   "source": [
    "df"
   ]
  },
  {
   "cell_type": "code",
   "execution_count": 148,
   "id": "85d30735-03e4-4c72-9f0d-45ac54c4d9b9",
   "metadata": {},
   "outputs": [
    {
     "data": {
      "text/html": [
       "<div>\n",
       "<style scoped>\n",
       "    .dataframe tbody tr th:only-of-type {\n",
       "        vertical-align: middle;\n",
       "    }\n",
       "\n",
       "    .dataframe tbody tr th {\n",
       "        vertical-align: top;\n",
       "    }\n",
       "\n",
       "    .dataframe thead th {\n",
       "        text-align: right;\n",
       "    }\n",
       "</style>\n",
       "<table border=\"1\" class=\"dataframe\">\n",
       "  <thead>\n",
       "    <tr style=\"text-align: right;\">\n",
       "      <th></th>\n",
       "      <th>Grade</th>\n",
       "      <th>City</th>\n",
       "    </tr>\n",
       "    <tr>\n",
       "      <th>Age</th>\n",
       "      <th></th>\n",
       "      <th></th>\n",
       "    </tr>\n",
       "  </thead>\n",
       "  <tbody>\n",
       "    <tr>\n",
       "      <th>20</th>\n",
       "      <td>A</td>\n",
       "      <td>Delhi</td>\n",
       "    </tr>\n",
       "    <tr>\n",
       "      <th>21</th>\n",
       "      <td>B</td>\n",
       "      <td>Mumbai</td>\n",
       "    </tr>\n",
       "    <tr>\n",
       "      <th>22</th>\n",
       "      <td>A</td>\n",
       "      <td>Bangalore</td>\n",
       "    </tr>\n",
       "    <tr>\n",
       "      <th>23</th>\n",
       "      <td>C</td>\n",
       "      <td>Chennai</td>\n",
       "    </tr>\n",
       "    <tr>\n",
       "      <th>24</th>\n",
       "      <td>B</td>\n",
       "      <td>Hydrabad</td>\n",
       "    </tr>\n",
       "  </tbody>\n",
       "</table>\n",
       "</div>"
      ],
      "text/plain": [
       "    Grade       City\n",
       "Age                 \n",
       "20      A      Delhi\n",
       "21      B     Mumbai\n",
       "22      A  Bangalore\n",
       "23      C    Chennai\n",
       "24      B   Hydrabad"
      ]
     },
     "execution_count": 148,
     "metadata": {},
     "output_type": "execute_result"
    }
   ],
   "source": [
    "df.set_index('Age')"
   ]
  }
 ],
 "metadata": {
  "kernelspec": {
   "display_name": "Python [conda env:base] *",
   "language": "python",
   "name": "conda-base-py"
  },
  "language_info": {
   "codemirror_mode": {
    "name": "ipython",
    "version": 3
   },
   "file_extension": ".py",
   "mimetype": "text/x-python",
   "name": "python",
   "nbconvert_exporter": "python",
   "pygments_lexer": "ipython3",
   "version": "3.12.7"
  }
 },
 "nbformat": 4,
 "nbformat_minor": 5
}
