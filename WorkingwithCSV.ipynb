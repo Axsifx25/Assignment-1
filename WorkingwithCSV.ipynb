{
 "cells": [
  {
   "cell_type": "code",
   "execution_count": 21,
   "id": "8ef7c74c-d85e-4cfa-a7e0-d0f45182ac95",
   "metadata": {},
   "outputs": [],
   "source": [
    "import pandas as pd"
   ]
  },
  {
   "cell_type": "code",
   "execution_count": 23,
   "id": "b3551323-62c9-440e-826d-c7070610b29c",
   "metadata": {},
   "outputs": [],
   "source": [
    "dm= pd.read_csv(\"C:\\\\Users\\\\Dell 4\\\\Documents\\\\Book1.csv\",skiprows=1)"
   ]
  },
  {
   "cell_type": "code",
   "execution_count": 25,
   "id": "5603734a-75a8-4be8-9685-e9ee69b54ef3",
   "metadata": {},
   "outputs": [
    {
     "data": {
      "text/html": [
       "<div>\n",
       "<style scoped>\n",
       "    .dataframe tbody tr th:only-of-type {\n",
       "        vertical-align: middle;\n",
       "    }\n",
       "\n",
       "    .dataframe tbody tr th {\n",
       "        vertical-align: top;\n",
       "    }\n",
       "\n",
       "    .dataframe thead th {\n",
       "        text-align: right;\n",
       "    }\n",
       "</style>\n",
       "<table border=\"1\" class=\"dataframe\">\n",
       "  <thead>\n",
       "    <tr style=\"text-align: right;\">\n",
       "      <th></th>\n",
       "      <th>Isha</th>\n",
       "      <th>21</th>\n",
       "      <th>B</th>\n",
       "      <th>78</th>\n",
       "      <th>Bangalore</th>\n",
       "    </tr>\n",
       "  </thead>\n",
       "  <tbody>\n",
       "    <tr>\n",
       "      <th>0</th>\n",
       "      <td>Vivaan</td>\n",
       "      <td>22</td>\n",
       "      <td>A</td>\n",
       "      <td>92</td>\n",
       "      <td>Chennai</td>\n",
       "    </tr>\n",
       "    <tr>\n",
       "      <th>1</th>\n",
       "      <td>Priya</td>\n",
       "      <td>23</td>\n",
       "      <td>C</td>\n",
       "      <td>65</td>\n",
       "      <td>Hydrabad</td>\n",
       "    </tr>\n",
       "    <tr>\n",
       "      <th>2</th>\n",
       "      <td>Reyansh</td>\n",
       "      <td>24</td>\n",
       "      <td>B</td>\n",
       "      <td>80</td>\n",
       "      <td>Na</td>\n",
       "    </tr>\n",
       "  </tbody>\n",
       "</table>\n",
       "</div>"
      ],
      "text/plain": [
       "      Isha  21  B  78 Bangalore\n",
       "0   Vivaan  22  A  92   Chennai\n",
       "1    Priya  23  C  65  Hydrabad\n",
       "2  Reyansh  24  B  80        Na"
      ]
     },
     "execution_count": 25,
     "metadata": {},
     "output_type": "execute_result"
    }
   ],
   "source": [
    "dm"
   ]
  },
  {
   "cell_type": "code",
   "execution_count": 27,
   "id": "de2142e9-199b-4ffa-a7f1-fbce1e8566c1",
   "metadata": {},
   "outputs": [],
   "source": [
    "dm= pd.read_csv(\"C:\\\\Users\\\\Dell 4\\\\Documents\\\\Book1.csv\",names=[\"Names\",\"Age\",\"Grade\",\"Marks\",\"City\"])"
   ]
  },
  {
   "cell_type": "code",
   "execution_count": 29,
   "id": "cf3619fb-3638-49bd-92ee-807834c4f98f",
   "metadata": {},
   "outputs": [
    {
     "data": {
      "text/html": [
       "<div>\n",
       "<style scoped>\n",
       "    .dataframe tbody tr th:only-of-type {\n",
       "        vertical-align: middle;\n",
       "    }\n",
       "\n",
       "    .dataframe tbody tr th {\n",
       "        vertical-align: top;\n",
       "    }\n",
       "\n",
       "    .dataframe thead th {\n",
       "        text-align: right;\n",
       "    }\n",
       "</style>\n",
       "<table border=\"1\" class=\"dataframe\">\n",
       "  <thead>\n",
       "    <tr style=\"text-align: right;\">\n",
       "      <th></th>\n",
       "      <th>Names</th>\n",
       "      <th>Age</th>\n",
       "      <th>Grade</th>\n",
       "      <th>Marks</th>\n",
       "      <th>City</th>\n",
       "    </tr>\n",
       "  </thead>\n",
       "  <tbody>\n",
       "    <tr>\n",
       "      <th>0</th>\n",
       "      <td>20</td>\n",
       "      <td>A</td>\n",
       "      <td>85</td>\n",
       "      <td>Delhi</td>\n",
       "      <td>Mumbai</td>\n",
       "    </tr>\n",
       "    <tr>\n",
       "      <th>1</th>\n",
       "      <td>Isha</td>\n",
       "      <td>21</td>\n",
       "      <td>B</td>\n",
       "      <td>78</td>\n",
       "      <td>Bangalore</td>\n",
       "    </tr>\n",
       "    <tr>\n",
       "      <th>2</th>\n",
       "      <td>Vivaan</td>\n",
       "      <td>22</td>\n",
       "      <td>A</td>\n",
       "      <td>92</td>\n",
       "      <td>Chennai</td>\n",
       "    </tr>\n",
       "    <tr>\n",
       "      <th>3</th>\n",
       "      <td>Priya</td>\n",
       "      <td>23</td>\n",
       "      <td>C</td>\n",
       "      <td>65</td>\n",
       "      <td>Hydrabad</td>\n",
       "    </tr>\n",
       "    <tr>\n",
       "      <th>4</th>\n",
       "      <td>Reyansh</td>\n",
       "      <td>24</td>\n",
       "      <td>B</td>\n",
       "      <td>80</td>\n",
       "      <td>Na</td>\n",
       "    </tr>\n",
       "  </tbody>\n",
       "</table>\n",
       "</div>"
      ],
      "text/plain": [
       "     Names Age Grade  Marks       City\n",
       "0       20   A    85  Delhi     Mumbai\n",
       "1     Isha  21     B     78  Bangalore\n",
       "2   Vivaan  22     A     92    Chennai\n",
       "3    Priya  23     C     65   Hydrabad\n",
       "4  Reyansh  24     B     80         Na"
      ]
     },
     "execution_count": 29,
     "metadata": {},
     "output_type": "execute_result"
    }
   ],
   "source": [
    "dm"
   ]
  },
  {
   "cell_type": "code",
   "execution_count": 31,
   "id": "284129ba-3e63-45e3-a574-7d2209d17f26",
   "metadata": {},
   "outputs": [],
   "source": [
    "dm.to_csv(\"C:\\\\Users\\\\Dell 4\\\\Documents\\\\Book1.csv\" ,index=False)"
   ]
  },
  {
   "cell_type": "code",
   "execution_count": 33,
   "id": "93c67b2c-cade-4ec1-8fd5-c4a49b0ffbfd",
   "metadata": {},
   "outputs": [
    {
     "data": {
      "text/html": [
       "<div>\n",
       "<style scoped>\n",
       "    .dataframe tbody tr th:only-of-type {\n",
       "        vertical-align: middle;\n",
       "    }\n",
       "\n",
       "    .dataframe tbody tr th {\n",
       "        vertical-align: top;\n",
       "    }\n",
       "\n",
       "    .dataframe thead th {\n",
       "        text-align: right;\n",
       "    }\n",
       "</style>\n",
       "<table border=\"1\" class=\"dataframe\">\n",
       "  <thead>\n",
       "    <tr style=\"text-align: right;\">\n",
       "      <th></th>\n",
       "      <th>Names</th>\n",
       "      <th>Age</th>\n",
       "      <th>Grade</th>\n",
       "      <th>Marks</th>\n",
       "      <th>City</th>\n",
       "    </tr>\n",
       "  </thead>\n",
       "  <tbody>\n",
       "    <tr>\n",
       "      <th>0</th>\n",
       "      <td>20</td>\n",
       "      <td>A</td>\n",
       "      <td>85</td>\n",
       "      <td>Delhi</td>\n",
       "      <td>Mumbai</td>\n",
       "    </tr>\n",
       "    <tr>\n",
       "      <th>1</th>\n",
       "      <td>Isha</td>\n",
       "      <td>21</td>\n",
       "      <td>B</td>\n",
       "      <td>78</td>\n",
       "      <td>Bangalore</td>\n",
       "    </tr>\n",
       "    <tr>\n",
       "      <th>2</th>\n",
       "      <td>Vivaan</td>\n",
       "      <td>22</td>\n",
       "      <td>A</td>\n",
       "      <td>92</td>\n",
       "      <td>Chennai</td>\n",
       "    </tr>\n",
       "    <tr>\n",
       "      <th>3</th>\n",
       "      <td>Priya</td>\n",
       "      <td>23</td>\n",
       "      <td>C</td>\n",
       "      <td>65</td>\n",
       "      <td>Hydrabad</td>\n",
       "    </tr>\n",
       "    <tr>\n",
       "      <th>4</th>\n",
       "      <td>Reyansh</td>\n",
       "      <td>24</td>\n",
       "      <td>B</td>\n",
       "      <td>80</td>\n",
       "      <td>Na</td>\n",
       "    </tr>\n",
       "  </tbody>\n",
       "</table>\n",
       "</div>"
      ],
      "text/plain": [
       "     Names Age Grade  Marks       City\n",
       "0       20   A    85  Delhi     Mumbai\n",
       "1     Isha  21     B     78  Bangalore\n",
       "2   Vivaan  22     A     92    Chennai\n",
       "3    Priya  23     C     65   Hydrabad\n",
       "4  Reyansh  24     B     80         Na"
      ]
     },
     "execution_count": 33,
     "metadata": {},
     "output_type": "execute_result"
    }
   ],
   "source": [
    "dm "
   ]
  },
  {
   "cell_type": "code",
   "execution_count": 37,
   "id": "ad467fa3-d365-41f7-8e8a-7c4810972254",
   "metadata": {},
   "outputs": [],
   "source": [
    "dm=pd.read_csv(\"C:\\\\Users\\\\Dell 4\\\\Documents\\\\Book1.csv\" , nrows=3)"
   ]
  },
  {
   "cell_type": "code",
   "execution_count": 39,
   "id": "124589c7-de7e-47aa-b567-db97f0285997",
   "metadata": {},
   "outputs": [
    {
     "data": {
      "text/html": [
       "<div>\n",
       "<style scoped>\n",
       "    .dataframe tbody tr th:only-of-type {\n",
       "        vertical-align: middle;\n",
       "    }\n",
       "\n",
       "    .dataframe tbody tr th {\n",
       "        vertical-align: top;\n",
       "    }\n",
       "\n",
       "    .dataframe thead th {\n",
       "        text-align: right;\n",
       "    }\n",
       "</style>\n",
       "<table border=\"1\" class=\"dataframe\">\n",
       "  <thead>\n",
       "    <tr style=\"text-align: right;\">\n",
       "      <th></th>\n",
       "      <th>Names</th>\n",
       "      <th>Age</th>\n",
       "      <th>Grade</th>\n",
       "      <th>Marks</th>\n",
       "      <th>City</th>\n",
       "    </tr>\n",
       "  </thead>\n",
       "  <tbody>\n",
       "    <tr>\n",
       "      <th>0</th>\n",
       "      <td>20</td>\n",
       "      <td>A</td>\n",
       "      <td>85</td>\n",
       "      <td>Delhi</td>\n",
       "      <td>Mumbai</td>\n",
       "    </tr>\n",
       "    <tr>\n",
       "      <th>1</th>\n",
       "      <td>Isha</td>\n",
       "      <td>21</td>\n",
       "      <td>B</td>\n",
       "      <td>78</td>\n",
       "      <td>Bangalore</td>\n",
       "    </tr>\n",
       "    <tr>\n",
       "      <th>2</th>\n",
       "      <td>Vivaan</td>\n",
       "      <td>22</td>\n",
       "      <td>A</td>\n",
       "      <td>92</td>\n",
       "      <td>Chennai</td>\n",
       "    </tr>\n",
       "  </tbody>\n",
       "</table>\n",
       "</div>"
      ],
      "text/plain": [
       "    Names Age Grade  Marks       City\n",
       "0      20   A    85  Delhi     Mumbai\n",
       "1    Isha  21     B     78  Bangalore\n",
       "2  Vivaan  22     A     92    Chennai"
      ]
     },
     "execution_count": 39,
     "metadata": {},
     "output_type": "execute_result"
    }
   ],
   "source": [
    "dm"
   ]
  },
  {
   "cell_type": "code",
   "execution_count": 53,
   "id": "e69da575-e227-4367-9ef1-0edb9c95a8da",
   "metadata": {},
   "outputs": [],
   "source": [
    "import numpy as np\n",
    "def convert_City_cell(cell):\n",
    "       if cell=='NaN':\n",
    "            return 'Hello'\n",
    "            return cell\n",
    "def cobert_Grade_cell(cell):\n",
    "        if cell=='NaN':\n",
    "            return 'zero'\n",
    "            return cell\n",
    "            dm=pd.read_csv('C:\\\\Users\\\\Dell 4\\\\Documents\\\\Book1.csv',names=[\"Names\",\"Age\",\"Grade\",\"Marks\",\"City\"], converters={'City':convert_City_cell,'Grade':convert_Grade_cell})"
   ]
  },
  {
   "cell_type": "code",
   "execution_count": 56,
   "id": "7fd83ba0-0a97-45cd-a705-0465d9f535a0",
   "metadata": {},
   "outputs": [
    {
     "data": {
      "text/html": [
       "<div>\n",
       "<style scoped>\n",
       "    .dataframe tbody tr th:only-of-type {\n",
       "        vertical-align: middle;\n",
       "    }\n",
       "\n",
       "    .dataframe tbody tr th {\n",
       "        vertical-align: top;\n",
       "    }\n",
       "\n",
       "    .dataframe thead th {\n",
       "        text-align: right;\n",
       "    }\n",
       "</style>\n",
       "<table border=\"1\" class=\"dataframe\">\n",
       "  <thead>\n",
       "    <tr style=\"text-align: right;\">\n",
       "      <th></th>\n",
       "      <th>Names</th>\n",
       "      <th>Age</th>\n",
       "      <th>Grade</th>\n",
       "      <th>Marks</th>\n",
       "      <th>City</th>\n",
       "    </tr>\n",
       "  </thead>\n",
       "  <tbody>\n",
       "    <tr>\n",
       "      <th>0</th>\n",
       "      <td>20</td>\n",
       "      <td>A</td>\n",
       "      <td>85</td>\n",
       "      <td>Delhi</td>\n",
       "      <td>Mumbai</td>\n",
       "    </tr>\n",
       "    <tr>\n",
       "      <th>1</th>\n",
       "      <td>Isha</td>\n",
       "      <td>21</td>\n",
       "      <td>B</td>\n",
       "      <td>78</td>\n",
       "      <td>Bangalore</td>\n",
       "    </tr>\n",
       "    <tr>\n",
       "      <th>2</th>\n",
       "      <td>Vivaan</td>\n",
       "      <td>22</td>\n",
       "      <td>A</td>\n",
       "      <td>92</td>\n",
       "      <td>Chennai</td>\n",
       "    </tr>\n",
       "  </tbody>\n",
       "</table>\n",
       "</div>"
      ],
      "text/plain": [
       "    Names Age Grade  Marks       City\n",
       "0      20   A    85  Delhi     Mumbai\n",
       "1    Isha  21     B     78  Bangalore\n",
       "2  Vivaan  22     A     92    Chennai"
      ]
     },
     "execution_count": 56,
     "metadata": {},
     "output_type": "execute_result"
    }
   ],
   "source": [
    "dm"
   ]
  },
  {
   "cell_type": "code",
   "execution_count": 60,
   "id": "5dc42de0-6f03-49af-aa87-faf446857861",
   "metadata": {},
   "outputs": [],
   "source": [
    "dm.to_excel('Book1.xlsx',sheet_name='sheet1')"
   ]
  },
  {
   "cell_type": "code",
   "execution_count": 62,
   "id": "a194acd9-09a5-4573-82c5-b3bd432a6164",
   "metadata": {},
   "outputs": [
    {
     "data": {
      "text/html": [
       "<div>\n",
       "<style scoped>\n",
       "    .dataframe tbody tr th:only-of-type {\n",
       "        vertical-align: middle;\n",
       "    }\n",
       "\n",
       "    .dataframe tbody tr th {\n",
       "        vertical-align: top;\n",
       "    }\n",
       "\n",
       "    .dataframe thead th {\n",
       "        text-align: right;\n",
       "    }\n",
       "</style>\n",
       "<table border=\"1\" class=\"dataframe\">\n",
       "  <thead>\n",
       "    <tr style=\"text-align: right;\">\n",
       "      <th></th>\n",
       "      <th>Names</th>\n",
       "      <th>Age</th>\n",
       "      <th>Grade</th>\n",
       "      <th>Marks</th>\n",
       "      <th>City</th>\n",
       "    </tr>\n",
       "  </thead>\n",
       "  <tbody>\n",
       "    <tr>\n",
       "      <th>0</th>\n",
       "      <td>20</td>\n",
       "      <td>A</td>\n",
       "      <td>85</td>\n",
       "      <td>Delhi</td>\n",
       "      <td>Mumbai</td>\n",
       "    </tr>\n",
       "    <tr>\n",
       "      <th>1</th>\n",
       "      <td>Isha</td>\n",
       "      <td>21</td>\n",
       "      <td>B</td>\n",
       "      <td>78</td>\n",
       "      <td>Bangalore</td>\n",
       "    </tr>\n",
       "    <tr>\n",
       "      <th>2</th>\n",
       "      <td>Vivaan</td>\n",
       "      <td>22</td>\n",
       "      <td>A</td>\n",
       "      <td>92</td>\n",
       "      <td>Chennai</td>\n",
       "    </tr>\n",
       "  </tbody>\n",
       "</table>\n",
       "</div>"
      ],
      "text/plain": [
       "    Names Age Grade  Marks       City\n",
       "0      20   A    85  Delhi     Mumbai\n",
       "1    Isha  21     B     78  Bangalore\n",
       "2  Vivaan  22     A     92    Chennai"
      ]
     },
     "execution_count": 62,
     "metadata": {},
     "output_type": "execute_result"
    }
   ],
   "source": [
    "dm"
   ]
  },
  {
   "cell_type": "code",
   "execution_count": null,
   "id": "0cc33162-306e-414d-96a9-9f50e97b6c96",
   "metadata": {},
   "outputs": [],
   "source": []
  }
 ],
 "metadata": {
  "kernelspec": {
   "display_name": "Python [conda env:base] *",
   "language": "python",
   "name": "conda-base-py"
  },
  "language_info": {
   "codemirror_mode": {
    "name": "ipython",
    "version": 3
   },
   "file_extension": ".py",
   "mimetype": "text/x-python",
   "name": "python",
   "nbconvert_exporter": "python",
   "pygments_lexer": "ipython3",
   "version": "3.12.7"
  }
 },
 "nbformat": 4,
 "nbformat_minor": 5
}
