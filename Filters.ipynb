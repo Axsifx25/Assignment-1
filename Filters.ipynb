{
 "cells": [
  {
   "cell_type": "code",
   "execution_count": 2,
   "id": "6c6d77a5-19c0-463c-919d-79069caef459",
   "metadata": {},
   "outputs": [],
   "source": [
    "import pandas as pd"
   ]
  },
  {
   "cell_type": "code",
   "execution_count": 16,
   "id": "64f311f2-90c2-407f-a371-08df8be39098",
   "metadata": {},
   "outputs": [],
   "source": [
    "import faker"
   ]
  },
  {
   "cell_type": "code",
   "execution_count": 24,
   "id": "b630374e-64ab-489f-ba26-8d2a2cef4681",
   "metadata": {},
   "outputs": [],
   "source": [
    "import random"
   ]
  },
  {
   "cell_type": "code",
   "execution_count": 26,
   "id": "8a82807f-3150-4710-9e90-dbd942e7796e",
   "metadata": {},
   "outputs": [
    {
     "name": "stdout",
     "output_type": "stream",
     "text": [
      "  First Name  Surname  Age           City        Hobby        Bank Name  \\\n",
      "0       John    Smith   28       New York  Photography  Bank of America   \n",
      "1       Emma  Johnson   34    Los Angeles      Reading            Chase   \n",
      "2    Michael    Brown   45        Chicago      Running      Wells Fargo   \n",
      "3     Olivia   Taylor   22  San Francisco     Painting         Citibank   \n",
      "4       Liam    Davis   31          Miami      Cycling  Bank of America   \n",
      "5     Sophia   Miller   27        Seattle    Traveling      Capital One   \n",
      "6      James   Wilson   40         Austin      Cooking            Chase   \n",
      "7   Isabella    Moore   36         Dallas         Yoga      Wells Fargo   \n",
      "8      Ethan    Clark   29         Boston       Gaming         Citibank   \n",
      "9        Mia    Lewis   25         Denver       Hiking      Capital One   \n",
      "\n",
      "   Gender  \n",
      "0    Male  \n",
      "1  Female  \n",
      "2    Male  \n",
      "3  Female  \n",
      "4    Male  \n",
      "5  Female  \n",
      "6    Male  \n",
      "7  Female  \n",
      "8    Male  \n",
      "9  Female  \n"
     ]
    }
   ],
   "source": [
    "# Creating the dataset\n",
    "data = {\n",
    "    \"First Name\": [\"John\", \"Emma\", \"Michael\", \"Olivia\", \"Liam\", \"Sophia\", \"James\", \"Isabella\", \"Ethan\", \"Mia\"],\n",
    "    \"Surname\": [\"Smith\", \"Johnson\", \"Brown\", \"Taylor\", \"Davis\", \"Miller\", \"Wilson\", \"Moore\", \"Clark\", \"Lewis\"],\n",
    "    \"Age\": [28, 34, 45, 22, 31, 27, 40, 36, 29, 25],\n",
    "    \"City\": [\"New York\", \"Los Angeles\", \"Chicago\", \"San Francisco\", \"Miami\", \"Seattle\", \"Austin\", \"Dallas\", \"Boston\", \"Denver\"],\n",
    "    \"Hobby\": [\"Photography\", \"Reading\", \"Running\", \"Painting\", \"Cycling\", \"Traveling\", \"Cooking\", \"Yoga\", \"Gaming\", \"Hiking\"],\n",
    "    \"Bank Name\": [\"Bank of America\", \"Chase\", \"Wells Fargo\", \"Citibank\", \"Bank of America\", \"Capital One\", \"Chase\", \"Wells Fargo\", \"Citibank\", \"Capital One\"],\n",
    "    \"Gender\": [\"Male\", \"Female\", \"Male\", \"Female\", \"Male\", \"Female\", \"Male\", \"Female\", \"Male\", \"Female\"]\n",
    "}\n",
    "\n",
    "# Creating a DataFrame\n",
    "df = pd.DataFrame(data)\n",
    "\n",
    "# Display the DataFrame\n",
    "print(df)"
   ]
  },
  {
   "cell_type": "code",
   "execution_count": 30,
   "id": "2d101c50-c909-4e9e-9b41-fa03778c0332",
   "metadata": {},
   "outputs": [
    {
     "data": {
      "text/html": [
       "<div>\n",
       "<style scoped>\n",
       "    .dataframe tbody tr th:only-of-type {\n",
       "        vertical-align: middle;\n",
       "    }\n",
       "\n",
       "    .dataframe tbody tr th {\n",
       "        vertical-align: top;\n",
       "    }\n",
       "\n",
       "    .dataframe thead th {\n",
       "        text-align: right;\n",
       "    }\n",
       "</style>\n",
       "<table border=\"1\" class=\"dataframe\">\n",
       "  <thead>\n",
       "    <tr style=\"text-align: right;\">\n",
       "      <th></th>\n",
       "      <th>First Name</th>\n",
       "      <th>Surname</th>\n",
       "      <th>Age</th>\n",
       "      <th>City</th>\n",
       "      <th>Hobby</th>\n",
       "      <th>Bank Name</th>\n",
       "      <th>Gender</th>\n",
       "    </tr>\n",
       "  </thead>\n",
       "  <tbody>\n",
       "    <tr>\n",
       "      <th>2</th>\n",
       "      <td>Michael</td>\n",
       "      <td>Brown</td>\n",
       "      <td>45</td>\n",
       "      <td>Chicago</td>\n",
       "      <td>Running</td>\n",
       "      <td>Wells Fargo</td>\n",
       "      <td>Male</td>\n",
       "    </tr>\n",
       "    <tr>\n",
       "      <th>8</th>\n",
       "      <td>Ethan</td>\n",
       "      <td>Clark</td>\n",
       "      <td>29</td>\n",
       "      <td>Boston</td>\n",
       "      <td>Gaming</td>\n",
       "      <td>Citibank</td>\n",
       "      <td>Male</td>\n",
       "    </tr>\n",
       "    <tr>\n",
       "      <th>4</th>\n",
       "      <td>Liam</td>\n",
       "      <td>Davis</td>\n",
       "      <td>31</td>\n",
       "      <td>Miami</td>\n",
       "      <td>Cycling</td>\n",
       "      <td>Bank of America</td>\n",
       "      <td>Male</td>\n",
       "    </tr>\n",
       "    <tr>\n",
       "      <th>1</th>\n",
       "      <td>Emma</td>\n",
       "      <td>Johnson</td>\n",
       "      <td>34</td>\n",
       "      <td>Los Angeles</td>\n",
       "      <td>Reading</td>\n",
       "      <td>Chase</td>\n",
       "      <td>Female</td>\n",
       "    </tr>\n",
       "    <tr>\n",
       "      <th>9</th>\n",
       "      <td>Mia</td>\n",
       "      <td>Lewis</td>\n",
       "      <td>25</td>\n",
       "      <td>Denver</td>\n",
       "      <td>Hiking</td>\n",
       "      <td>Capital One</td>\n",
       "      <td>Female</td>\n",
       "    </tr>\n",
       "    <tr>\n",
       "      <th>5</th>\n",
       "      <td>Sophia</td>\n",
       "      <td>Miller</td>\n",
       "      <td>27</td>\n",
       "      <td>Seattle</td>\n",
       "      <td>Traveling</td>\n",
       "      <td>Capital One</td>\n",
       "      <td>Female</td>\n",
       "    </tr>\n",
       "    <tr>\n",
       "      <th>7</th>\n",
       "      <td>Isabella</td>\n",
       "      <td>Moore</td>\n",
       "      <td>36</td>\n",
       "      <td>Dallas</td>\n",
       "      <td>Yoga</td>\n",
       "      <td>Wells Fargo</td>\n",
       "      <td>Female</td>\n",
       "    </tr>\n",
       "    <tr>\n",
       "      <th>0</th>\n",
       "      <td>John</td>\n",
       "      <td>Smith</td>\n",
       "      <td>28</td>\n",
       "      <td>New York</td>\n",
       "      <td>Photography</td>\n",
       "      <td>Bank of America</td>\n",
       "      <td>Male</td>\n",
       "    </tr>\n",
       "    <tr>\n",
       "      <th>3</th>\n",
       "      <td>Olivia</td>\n",
       "      <td>Taylor</td>\n",
       "      <td>22</td>\n",
       "      <td>San Francisco</td>\n",
       "      <td>Painting</td>\n",
       "      <td>Citibank</td>\n",
       "      <td>Female</td>\n",
       "    </tr>\n",
       "    <tr>\n",
       "      <th>6</th>\n",
       "      <td>James</td>\n",
       "      <td>Wilson</td>\n",
       "      <td>40</td>\n",
       "      <td>Austin</td>\n",
       "      <td>Cooking</td>\n",
       "      <td>Chase</td>\n",
       "      <td>Male</td>\n",
       "    </tr>\n",
       "  </tbody>\n",
       "</table>\n",
       "</div>"
      ],
      "text/plain": [
       "  First Name  Surname  Age           City        Hobby        Bank Name  \\\n",
       "2    Michael    Brown   45        Chicago      Running      Wells Fargo   \n",
       "8      Ethan    Clark   29         Boston       Gaming         Citibank   \n",
       "4       Liam    Davis   31          Miami      Cycling  Bank of America   \n",
       "1       Emma  Johnson   34    Los Angeles      Reading            Chase   \n",
       "9        Mia    Lewis   25         Denver       Hiking      Capital One   \n",
       "5     Sophia   Miller   27        Seattle    Traveling      Capital One   \n",
       "7   Isabella    Moore   36         Dallas         Yoga      Wells Fargo   \n",
       "0       John    Smith   28       New York  Photography  Bank of America   \n",
       "3     Olivia   Taylor   22  San Francisco     Painting         Citibank   \n",
       "6      James   Wilson   40         Austin      Cooking            Chase   \n",
       "\n",
       "   Gender  \n",
       "2    Male  \n",
       "8    Male  \n",
       "4    Male  \n",
       "1  Female  \n",
       "9  Female  \n",
       "5  Female  \n",
       "7  Female  \n",
       "0    Male  \n",
       "3  Female  \n",
       "6    Male  "
      ]
     },
     "execution_count": 30,
     "metadata": {},
     "output_type": "execute_result"
    }
   ],
   "source": [
    "# short values\n",
    "df.sort_values(by='Surname')"
   ]
  },
  {
   "cell_type": "code",
   "execution_count": 34,
   "id": "f562eac4-0e5d-4083-aa67-1c7b28a690ed",
   "metadata": {},
   "outputs": [
    {
     "data": {
      "text/html": [
       "<div>\n",
       "<style scoped>\n",
       "    .dataframe tbody tr th:only-of-type {\n",
       "        vertical-align: middle;\n",
       "    }\n",
       "\n",
       "    .dataframe tbody tr th {\n",
       "        vertical-align: top;\n",
       "    }\n",
       "\n",
       "    .dataframe thead th {\n",
       "        text-align: right;\n",
       "    }\n",
       "</style>\n",
       "<table border=\"1\" class=\"dataframe\">\n",
       "  <thead>\n",
       "    <tr style=\"text-align: right;\">\n",
       "      <th></th>\n",
       "      <th>First Name</th>\n",
       "      <th>Surname</th>\n",
       "      <th>Age</th>\n",
       "      <th>City</th>\n",
       "      <th>Hobby</th>\n",
       "      <th>Bank Name</th>\n",
       "      <th>Gender</th>\n",
       "    </tr>\n",
       "  </thead>\n",
       "  <tbody>\n",
       "    <tr>\n",
       "      <th>6</th>\n",
       "      <td>James</td>\n",
       "      <td>Wilson</td>\n",
       "      <td>40</td>\n",
       "      <td>Austin</td>\n",
       "      <td>Cooking</td>\n",
       "      <td>Chase</td>\n",
       "      <td>Male</td>\n",
       "    </tr>\n",
       "    <tr>\n",
       "      <th>4</th>\n",
       "      <td>Liam</td>\n",
       "      <td>Davis</td>\n",
       "      <td>31</td>\n",
       "      <td>Miami</td>\n",
       "      <td>Cycling</td>\n",
       "      <td>Bank of America</td>\n",
       "      <td>Male</td>\n",
       "    </tr>\n",
       "    <tr>\n",
       "      <th>8</th>\n",
       "      <td>Ethan</td>\n",
       "      <td>Clark</td>\n",
       "      <td>29</td>\n",
       "      <td>Boston</td>\n",
       "      <td>Gaming</td>\n",
       "      <td>Citibank</td>\n",
       "      <td>Male</td>\n",
       "    </tr>\n",
       "    <tr>\n",
       "      <th>9</th>\n",
       "      <td>Mia</td>\n",
       "      <td>Lewis</td>\n",
       "      <td>25</td>\n",
       "      <td>Denver</td>\n",
       "      <td>Hiking</td>\n",
       "      <td>Capital One</td>\n",
       "      <td>Female</td>\n",
       "    </tr>\n",
       "    <tr>\n",
       "      <th>3</th>\n",
       "      <td>Olivia</td>\n",
       "      <td>Taylor</td>\n",
       "      <td>22</td>\n",
       "      <td>San Francisco</td>\n",
       "      <td>Painting</td>\n",
       "      <td>Citibank</td>\n",
       "      <td>Female</td>\n",
       "    </tr>\n",
       "    <tr>\n",
       "      <th>0</th>\n",
       "      <td>John</td>\n",
       "      <td>Smith</td>\n",
       "      <td>28</td>\n",
       "      <td>New York</td>\n",
       "      <td>Photography</td>\n",
       "      <td>Bank of America</td>\n",
       "      <td>Male</td>\n",
       "    </tr>\n",
       "    <tr>\n",
       "      <th>1</th>\n",
       "      <td>Emma</td>\n",
       "      <td>Johnson</td>\n",
       "      <td>34</td>\n",
       "      <td>Los Angeles</td>\n",
       "      <td>Reading</td>\n",
       "      <td>Chase</td>\n",
       "      <td>Female</td>\n",
       "    </tr>\n",
       "    <tr>\n",
       "      <th>2</th>\n",
       "      <td>Michael</td>\n",
       "      <td>Brown</td>\n",
       "      <td>45</td>\n",
       "      <td>Chicago</td>\n",
       "      <td>Running</td>\n",
       "      <td>Wells Fargo</td>\n",
       "      <td>Male</td>\n",
       "    </tr>\n",
       "    <tr>\n",
       "      <th>5</th>\n",
       "      <td>Sophia</td>\n",
       "      <td>Miller</td>\n",
       "      <td>27</td>\n",
       "      <td>Seattle</td>\n",
       "      <td>Traveling</td>\n",
       "      <td>Capital One</td>\n",
       "      <td>Female</td>\n",
       "    </tr>\n",
       "    <tr>\n",
       "      <th>7</th>\n",
       "      <td>Isabella</td>\n",
       "      <td>Moore</td>\n",
       "      <td>36</td>\n",
       "      <td>Dallas</td>\n",
       "      <td>Yoga</td>\n",
       "      <td>Wells Fargo</td>\n",
       "      <td>Female</td>\n",
       "    </tr>\n",
       "  </tbody>\n",
       "</table>\n",
       "</div>"
      ],
      "text/plain": [
       "  First Name  Surname  Age           City        Hobby        Bank Name  \\\n",
       "6      James   Wilson   40         Austin      Cooking            Chase   \n",
       "4       Liam    Davis   31          Miami      Cycling  Bank of America   \n",
       "8      Ethan    Clark   29         Boston       Gaming         Citibank   \n",
       "9        Mia    Lewis   25         Denver       Hiking      Capital One   \n",
       "3     Olivia   Taylor   22  San Francisco     Painting         Citibank   \n",
       "0       John    Smith   28       New York  Photography  Bank of America   \n",
       "1       Emma  Johnson   34    Los Angeles      Reading            Chase   \n",
       "2    Michael    Brown   45        Chicago      Running      Wells Fargo   \n",
       "5     Sophia   Miller   27        Seattle    Traveling      Capital One   \n",
       "7   Isabella    Moore   36         Dallas         Yoga      Wells Fargo   \n",
       "\n",
       "   Gender  \n",
       "6    Male  \n",
       "4    Male  \n",
       "8    Male  \n",
       "9  Female  \n",
       "3  Female  \n",
       "0    Male  \n",
       "1  Female  \n",
       "2    Male  \n",
       "5  Female  \n",
       "7  Female  "
      ]
     },
     "execution_count": 34,
     "metadata": {},
     "output_type": "execute_result"
    }
   ],
   "source": [
    "#sort values for multiple columns.\n",
    "df.sort_values(by=['Hobby','City'])"
   ]
  },
  {
   "cell_type": "code",
   "execution_count": 44,
   "id": "7f2425cf-bbf6-46d8-aef0-3d3193fe684b",
   "metadata": {},
   "outputs": [
    {
     "data": {
      "text/plain": [
       "2    45\n",
       "6    40\n",
       "7    36\n",
       "Name: Age, dtype: int64"
      ]
     },
     "execution_count": 44,
     "metadata": {},
     "output_type": "execute_result"
    }
   ],
   "source": [
    "df['Age'].nlargest(3)"
   ]
  },
  {
   "cell_type": "code",
   "execution_count": 46,
   "id": "cad113df-14d5-4bd2-8a53-68ef24667bc5",
   "metadata": {},
   "outputs": [
    {
     "data": {
      "text/plain": [
       "Gender\n",
       "Female    28.8\n",
       "Male      34.6\n",
       "Name: Age, dtype: float64"
      ]
     },
     "execution_count": 46,
     "metadata": {},
     "output_type": "execute_result"
    }
   ],
   "source": [
    "df.groupby('Gender')['Age'].mean()"
   ]
  },
  {
   "cell_type": "code",
   "execution_count": 52,
   "id": "753900a8-95cd-4429-9830-f0d3e3e8ddb8",
   "metadata": {},
   "outputs": [
    {
     "data": {
      "text/plain": [
       "City\n",
       "Austin           1\n",
       "Boston           1\n",
       "Chicago          1\n",
       "Dallas           1\n",
       "Denver           1\n",
       "Los Angeles      1\n",
       "Miami            1\n",
       "New York         1\n",
       "San Francisco    1\n",
       "Seattle          1\n",
       "Name: First Name, dtype: int64"
      ]
     },
     "execution_count": 52,
     "metadata": {},
     "output_type": "execute_result"
    }
   ],
   "source": [
    "df.groupby('City')['First Name'].count()"
   ]
  },
  {
   "cell_type": "code",
   "execution_count": 54,
   "id": "551b9826-6907-4294-8bed-7c097e8fcdc9",
   "metadata": {},
   "outputs": [
    {
     "data": {
      "text/plain": [
       "Bank Name\n",
       "Bank of America    29.5\n",
       "Capital One        26.0\n",
       "Chase              37.0\n",
       "Citibank           25.5\n",
       "Wells Fargo        40.5\n",
       "Name: Age, dtype: float64"
      ]
     },
     "execution_count": 54,
     "metadata": {},
     "output_type": "execute_result"
    }
   ],
   "source": [
    "df.groupby('Bank Name')['Age'].mean()"
   ]
  },
  {
   "cell_type": "code",
   "execution_count": 64,
   "id": "4ba08811-5fb7-42d9-b30e-f35492f408ce",
   "metadata": {},
   "outputs": [
    {
     "data": {
      "text/plain": [
       "Gender  Hobby      \n",
       "Female  Hiking         25.0\n",
       "        Painting       22.0\n",
       "        Reading        34.0\n",
       "        Traveling      27.0\n",
       "        Yoga           36.0\n",
       "Male    Cooking        40.0\n",
       "        Cycling        31.0\n",
       "        Gaming         29.0\n",
       "        Photography    28.0\n",
       "        Running        45.0\n",
       "Name: Age, dtype: float64"
      ]
     },
     "execution_count": 64,
     "metadata": {},
     "output_type": "execute_result"
    }
   ],
   "source": [
    "df.groupby(['Gender','Hobby'])['Age'].mean()"
   ]
  },
  {
   "cell_type": "code",
   "execution_count": 68,
   "id": "f48cef9e-6a45-407f-b256-d191288bd313",
   "metadata": {},
   "outputs": [
    {
     "data": {
      "text/plain": [
       "Gender\n",
       "Female    144\n",
       "Male      173\n",
       "Name: Age, dtype: int64"
      ]
     },
     "execution_count": 68,
     "metadata": {},
     "output_type": "execute_result"
    }
   ],
   "source": [
    "df.groupby('Gender')['Age'].sum()"
   ]
  },
  {
   "cell_type": "code",
   "execution_count": 70,
   "id": "5cd27988-fbba-4ebe-a62e-ee4956766418",
   "metadata": {},
   "outputs": [
    {
     "data": {
      "text/plain": [
       "Gender\n",
       "Female    36\n",
       "Male      45\n",
       "Name: Age, dtype: int64"
      ]
     },
     "execution_count": 70,
     "metadata": {},
     "output_type": "execute_result"
    }
   ],
   "source": [
    "df.groupby('Gender')['Age'].max()"
   ]
  },
  {
   "cell_type": "code",
   "execution_count": 76,
   "id": "0ba550cb-5428-45ee-ac5e-4cad6f0e84fe",
   "metadata": {},
   "outputs": [
    {
     "data": {
      "text/html": [
       "<div>\n",
       "<style scoped>\n",
       "    .dataframe tbody tr th:only-of-type {\n",
       "        vertical-align: middle;\n",
       "    }\n",
       "\n",
       "    .dataframe tbody tr th {\n",
       "        vertical-align: top;\n",
       "    }\n",
       "\n",
       "    .dataframe thead tr th {\n",
       "        text-align: left;\n",
       "    }\n",
       "\n",
       "    .dataframe thead tr:last-of-type th {\n",
       "        text-align: right;\n",
       "    }\n",
       "</style>\n",
       "<table border=\"1\" class=\"dataframe\">\n",
       "  <thead>\n",
       "    <tr>\n",
       "      <th></th>\n",
       "      <th colspan=\"2\" halign=\"left\">Age</th>\n",
       "      <th>Hobby</th>\n",
       "      <th>Bank Name</th>\n",
       "    </tr>\n",
       "    <tr>\n",
       "      <th></th>\n",
       "      <th>mean</th>\n",
       "      <th>sum</th>\n",
       "      <th>count</th>\n",
       "      <th>nunique</th>\n",
       "    </tr>\n",
       "    <tr>\n",
       "      <th>Gender</th>\n",
       "      <th></th>\n",
       "      <th></th>\n",
       "      <th></th>\n",
       "      <th></th>\n",
       "    </tr>\n",
       "  </thead>\n",
       "  <tbody>\n",
       "    <tr>\n",
       "      <th>Female</th>\n",
       "      <td>28.8</td>\n",
       "      <td>144</td>\n",
       "      <td>5</td>\n",
       "      <td>4</td>\n",
       "    </tr>\n",
       "    <tr>\n",
       "      <th>Male</th>\n",
       "      <td>34.6</td>\n",
       "      <td>173</td>\n",
       "      <td>5</td>\n",
       "      <td>4</td>\n",
       "    </tr>\n",
       "  </tbody>\n",
       "</table>\n",
       "</div>"
      ],
      "text/plain": [
       "         Age      Hobby Bank Name\n",
       "        mean  sum count   nunique\n",
       "Gender                           \n",
       "Female  28.8  144     5         4\n",
       "Male    34.6  173     5         4"
      ]
     },
     "execution_count": 76,
     "metadata": {},
     "output_type": "execute_result"
    }
   ],
   "source": [
    "df.groupby('Gender').agg({\n",
    "    'Age': ['mean', 'sum'],\n",
    "    'Hobby':'count',\n",
    "    'Bank Name': 'nunique'\n",
    "})"
   ]
  },
  {
   "cell_type": "code",
   "execution_count": 82,
   "id": "bf37d690-3394-4361-a24d-94bb21f8bb75",
   "metadata": {},
   "outputs": [
    {
     "data": {
      "text/plain": [
       "Hobby\n",
       "Photography    1\n",
       "Reading        1\n",
       "Running        1\n",
       "Painting       1\n",
       "Cycling        1\n",
       "Traveling      1\n",
       "Cooking        1\n",
       "Yoga           1\n",
       "Gaming         1\n",
       "Hiking         1\n",
       "Name: count, dtype: int64"
      ]
     },
     "execution_count": 82,
     "metadata": {},
     "output_type": "execute_result"
    }
   ],
   "source": [
    "filt=df['City']!='Mumbai'\n",
    "df.loc[filt]['Hobby'].value_counts()"
   ]
  },
  {
   "cell_type": "code",
   "execution_count": 88,
   "id": "7ce7ca74-61ef-4d68-a81b-c1192e4a3fe4",
   "metadata": {},
   "outputs": [
    {
     "data": {
      "text/plain": [
       "Series([], Name: count, dtype: int64)"
      ]
     },
     "execution_count": 88,
     "metadata": {},
     "output_type": "execute_result"
    }
   ],
   "source": [
    "filt=df['City']=='Mumbai'\n",
    "df.loc[filt]['Hobby'].value_counts()"
   ]
  },
  {
   "cell_type": "code",
   "execution_count": 94,
   "id": "fceab36d-14be-4ee5-8842-045bc01f6e9b",
   "metadata": {},
   "outputs": [
    {
     "data": {
      "text/plain": [
       "1"
      ]
     },
     "execution_count": 94,
     "metadata": {},
     "output_type": "execute_result"
    }
   ],
   "source": [
    "filt=df['Age']<30\n",
    "df.loc[filt]['City'].str.contains('New York').sum()"
   ]
  },
  {
   "cell_type": "code",
   "execution_count": null,
   "id": "4a2a4e57-895e-4ef3-95d7-7f0f51bfa12b",
   "metadata": {},
   "outputs": [],
   "source": [
    "# p.replace('NA', np.nan ,inplace=True)\n",
    "# p.replace('Missing', np.nan ,inplace=True)"
   ]
  },
  {
   "cell_type": "code",
   "execution_count": null,
   "id": "cc1c1986-15e1-4d8a-8a17-7f992846bbed",
   "metadata": {},
   "outputs": [],
   "source": []
  }
 ],
 "metadata": {
  "kernelspec": {
   "display_name": "Python [conda env:base] *",
   "language": "python",
   "name": "conda-base-py"
  },
  "language_info": {
   "codemirror_mode": {
    "name": "ipython",
    "version": 3
   },
   "file_extension": ".py",
   "mimetype": "text/x-python",
   "name": "python",
   "nbconvert_exporter": "python",
   "pygments_lexer": "ipython3",
   "version": "3.12.7"
  }
 },
 "nbformat": 4,
 "nbformat_minor": 5
}
